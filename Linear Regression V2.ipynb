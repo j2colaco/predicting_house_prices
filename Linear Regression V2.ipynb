{
 "cells": [
  {
   "cell_type": "markdown",
   "metadata": {},
   "source": [
    "Notes:\n",
    "The linear regression model that worked the best was the 14th percentile with feature engineering v1. Next steps:\n",
    "- Fit linear regression model with regulization and automatically remove those features.\n",
    "- Add more feature engineering from v2 and monitor how it affects the model"
   ]
  },
  {
   "cell_type": "code",
   "execution_count": 123,
   "metadata": {},
   "outputs": [],
   "source": [
    "#8.97\n",
    "#11.69"
   ]
  },
  {
   "cell_type": "code",
   "execution_count": 323,
   "metadata": {},
   "outputs": [],
   "source": [
    "# Import libraries needed for linear regression computation\n",
    "import pandas as pd\n",
    "import numpy as np\n",
    "import matplotlib\n",
    "import matplotlib.pyplot as plt\n",
    "import statsmodels.api as sm\n",
    "from sklearn.model_selection import train_test_split\n",
    "from sklearn.metrics import mean_squared_error\n",
    "from math import sqrt\n",
    "from math import log\n",
    "from sklearn import preprocessing\n",
    "from sklearn.preprocessing import StandardScaler\n",
    "from sklearn.preprocessing import MinMaxScaler\n",
    "from sklearn.feature_selection import VarianceThreshold\n",
    "from sklearn.feature_selection import SelectKBest\n",
    "from sklearn.feature_selection import chi2\n",
    "from sklearn.feature_selection import SelectPercentile\n",
    "import scipy.stats as stats\n",
    "import pylab \n",
    "import seaborn as sns\n",
    "from sklearn.metrics.pairwise import euclidean_distances\n",
    "from operator import itemgetter\n",
    "from sklearn.decomposition import PCA\n",
    "%matplotlib inline"
   ]
  },
  {
   "cell_type": "code",
   "execution_count": 125,
   "metadata": {},
   "outputs": [],
   "source": [
    "# LR Function"
   ]
  },
  {
   "cell_type": "code",
   "execution_count": 273,
   "metadata": {},
   "outputs": [],
   "source": [
    "def run_model_inputs(train_data, train_id, train_saleprice, test_data, test_id):\n",
    "    # Build a model with all features to simply predict sales price\n",
    "    train_X, validate_X, train_y, validate_y = train_test_split(\n",
    "        train_data, train_saleprice, test_size=0.2, random_state=43344)\n",
    "\n",
    "    model = sm.OLS(train_y, sm.add_constant(train_X)).fit()\n",
    "    print('R2 is:', model.rsquared)\n",
    "    \n",
    "    # Let's get the train and test RMSE to compare\n",
    "    train_predictions = model.predict(sm.add_constant(train_X))\n",
    "    # print('The training RMSE is ', sqrt(mean_squared_error(train_y, train_predictions)), '!')\n",
    "    avg_train_err = ((abs(train_y - train_predictions))/train_y)\n",
    "    print('Training average percent error is', round(avg_train_err.mean()*100,2), '%.')\n",
    "\n",
    "\n",
    "    validate_predictions = model.predict(sm.add_constant(validate_X))\n",
    "    # print('The testing RMSE is ', sqrt(mean_squared_error(test_y, test_predictions)), '!')\n",
    "\n",
    "    avg_test_err = ((abs(validate_y - validate_predictions))/validate_y)\n",
    "    print('Validation average percent error is',round(avg_test_err.mean()*100,2), '%.')\n",
    "    \n",
    "    print('Difference is:', round(abs(avg_test_err.mean() - avg_train_err.mean())*100,2) )\n",
    "    # Plot the residual plot along with the QQ-Plot\n",
    "    \n",
    "    # fitted values\n",
    "    model_fitted = pd.DataFrame(model.fittedvalues)\n",
    "\n",
    "    # model residuals\n",
    "    model_residuals = pd.DataFrame(model.resid)\n",
    "\n",
    "    # Residual plot\n",
    "    residual_plot = plt.scatter(model_fitted , model_residuals)\n",
    "    plt.show()\n",
    "\n",
    "    #QQ-plot\n",
    "    stats.probplot(model_residuals[0], dist='norm', plot=pylab)\n",
    "    pylab.show()\n",
    "    \n",
    "    test_predictions = model.predict(sm.add_constant(test_data))\n",
    "    test_predictions = pd.DataFrame(test_predictions)\n",
    "    test_predictions.columns = ['SalePrice']\n",
    "    test_predictions = pd.concat([test_id, test_predictions], axis=1)\n",
    "    \n",
    "    return test_predictions\n",
    "\n",
    "\n",
    "def run_model_inputs_w_reg(train_data, train_id, train_saleprice, test_data, test_id, alpha_weight, lt_weight):\n",
    "    \n",
    "    # Build a model with all features to simply predict sales price\n",
    "    train_X, validate_X, train_y, validate_y = train_test_split(\n",
    "        train_data, train_saleprice, test_size=0.2, random_state=43344)\n",
    "\n",
    "    model = sm.OLS(train_y, sm.add_constant(train_X)).fit_regularized(method='elastic_net', alpha=alpha_weight, L1_wt =lt_weight)\n",
    "#     print('R2 is:', model.rsquared)\n",
    "    \n",
    "    # Let's get the train and test RMSE to compare\n",
    "    train_predictions = model.predict(sm.add_constant(train_X))\n",
    "    # print('The training RMSE is ', sqrt(mean_squared_error(train_y, train_predictions)), '!')\n",
    "    avg_train_err = ((abs(train_y - train_predictions))/train_y)\n",
    "    print('Training average percent error is', round(avg_train_err.mean()*100,2), '%.')\n",
    "\n",
    "\n",
    "    validate_predictions = model.predict(sm.add_constant(validate_X))\n",
    "    # print('The testing RMSE is ', sqrt(mean_squared_error(test_y, test_predictions)), '!')\n",
    "\n",
    "    avg_test_err = ((abs(validate_y - validate_predictions))/validate_y)\n",
    "    print('Validation average percent error is',round(avg_test_err.mean()*100,2), '%.')\n",
    "    \n",
    "    print('Difference is:', round(abs(avg_test_err.mean() - avg_train_err.mean())*100,2) )\n",
    "    \n",
    "    test_predictions = model.predict(sm.add_constant(test_data))\n",
    "    test_predictions = pd.DataFrame(test_predictions)\n",
    "    test_predictions.columns = ['SalePrice']\n",
    "    test_predictions = pd.concat([test_id, test_predictions], axis=1)\n",
    "    \n",
    "    return test_predictions\n"
   ]
  },
  {
   "cell_type": "markdown",
   "metadata": {},
   "source": [
    "# Feature Engineering Function V1"
   ]
  },
  {
   "cell_type": "code",
   "execution_count": 127,
   "metadata": {},
   "outputs": [],
   "source": [
    "def feature_engineering_v1(model_data):\n",
    "    # test_data has some nulls. Fill them with 0\n",
    "    model_data['BsmtFullBath'] = model_data['BsmtFullBath'].fillna(0)\n",
    "    model_data['BsmtHalfBath'] = model_data['BsmtHalfBath'].fillna(0)\n",
    "    model_data['GarageCars'] = model_data['GarageCars'].fillna(0)\n",
    "    \n",
    "    # fill na with 0 in the GarageYrBuilt column\n",
    "    model_data['GarageYrBlt'] = model_data['GarageYrBlt'].fillna(0.0)\n",
    "    \n",
    "    model_data['TotalLotArea'] = model_data['LotFrontage'].fillna(0) + model_data['LotArea']\n",
    "    model_data = model_data.drop(columns=['LotFrontage', 'LotArea'])\n",
    "    # This code is for living SF\n",
    "    model_data['HaveBsmt'] = np.where(model_data['TotalBsmtSF'] == 0, 0,1)\n",
    "    model_data['Have2ndFlr'] = np.where(model_data['2ndFlrSF'] == 0, 0,1)\n",
    "    model_data['living_SF'] = (model_data['1stFlrSF'].fillna(0) + model_data['2ndFlrSF'].fillna(0) \n",
    "                               + model_data['TotalBsmtSF'].fillna(0))\n",
    "    # Also dropping the lowqualitySF feature\n",
    "    model_data = model_data.drop(columns=['1stFlrSF', '2ndFlrSF', 'TotalBsmtSF', 'LowQualFinSF'])\n",
    "    \n",
    "    # Make binary variables for the SF features\n",
    "    model_data['MasVnrArea'] = model_data['MasVnrArea'].fillna(0)\n",
    "    model_data['MasVnrAreaBin'] = np.where(model_data['MasVnrArea'] == 0, 0,1)\n",
    "    model_data['WoodDeckSFBin'] = np.where(model_data['WoodDeckSF'] == 0, 0,1)\n",
    "    model_data['HaveGarage'] = np.where(model_data['GarageArea'] == 0, 0,1)\n",
    "    model_data['OpenPorchSFBin'] = np.where(model_data['OpenPorchSF'] == 0, 0,1)\n",
    "    model_data['EnclosedPorchBin'] = np.where(model_data['EnclosedPorch'] == 0, 0,1)\n",
    "    model_data['3SsnPorchBin'] = np.where(model_data['3SsnPorch'] == 0, 0,1)\n",
    "    model_data['ScreenPorchBin'] = np.where(model_data['ScreenPorch'] == 0, 0,1)\n",
    "    model_data['PoolAreaBin'] = np.where(model_data['PoolArea'] == 0, 0,1)\n",
    "    \n",
    "    # Sum up all the SF features as TotalSFfeatures\n",
    "    model_data['TotalSFFeatures'] = (model_data['MasVnrArea'].fillna(0) + model_data['GarageArea'].fillna(0) \n",
    "                                     + model_data['WoodDeckSF'].fillna(0) + model_data['OpenPorchSF'].fillna(0) \n",
    "                                     + model_data['EnclosedPorch'].fillna(0) + model_data['3SsnPorch'].fillna(0) \n",
    "                                     + model_data['ScreenPorch'].fillna(0) + model_data['PoolArea'].fillna(0))\n",
    "    \n",
    "    # Drop the columns that you have applied EDA on\n",
    "    model_data = model_data.drop(columns=['MasVnrArea','WoodDeckSF', 'GarageArea', 'OpenPorchSF', \n",
    "                                          'EnclosedPorch', '3SsnPorch', 'ScreenPorch', 'PoolArea'])\n",
    "    \n",
    "    # Apply Feature Engineering on OverallCond and OverallQual columns\n",
    "    model_data['OverallCondQual'] = (model_data['OverallCond'] * 1)+(model_data['OverallQual'])\n",
    "    model_data = model_data.drop(columns = ['OverallCond', 'OverallQual'])\n",
    "    \n",
    "    # Add int variables for ExterQual and ExterCond\n",
    "    model_data['ExterQualInt'] =  np.where(model_data['ExterQual'] == \"Ex\", 9, \n",
    "                                            np.where(model_data['ExterQual'] == \"Gd\", 7, \n",
    "                                                    np.where(model_data['ExterQual'] == \"TA\", 5, \n",
    "                                                            np.where(model_data['ExterQual'] == \"Fa\", 3, \n",
    "                                                                    np.where(model_data['ExterQual'] == \"Po\", 2,0)))))\n",
    "    model_data['ExterCondInt'] =  np.where(model_data['ExterCond'] == \"Ex\", 9, \n",
    "                                             np.where(model_data['ExterCond'] == \"Gd\", 7, \n",
    "                                                    np.where(model_data['ExterCond'] == \"TA\", 5, \n",
    "                                                            np.where(model_data['ExterCond'] == \"Fa\", 3, \n",
    "                                                                    np.where(model_data['ExterCond'] == \"Po\", 2,0)))))\n",
    "    model_data['ExterCondQual'] = (model_data['ExterCondInt']*1) + (model_data['ExterQualInt']*1)\n",
    "    # Drop original ExterQual and ExterCond and keep int columns\n",
    "    model_data = model_data.drop(columns=['ExterQual', 'ExterCond'])\n",
    "    \n",
    "    # Add int variables for all categorical basement variables\n",
    "    model_data['BsmtQualInt'] =  np.where(model_data['BsmtQual'] == \"Ex\", 9, \n",
    "                                            np.where(model_data['BsmtQual'] == \"Gd\", 7, \n",
    "                                                    np.where(model_data['BsmtQual'] == \"TA\", 5, \n",
    "                                                            np.where(model_data['BsmtQual'] == \"Fa\", 3, \n",
    "                                                                    np.where(model_data['BsmtQual'] == \"Po\", 2,0)))))\n",
    "\n",
    "    model_data['BsmtCondInt'] =  np.where(model_data['BsmtCond'] == \"Ex\", 9, \n",
    "                                            np.where(model_data['BsmtCond'] == \"Gd\", 7, \n",
    "                                                    np.where(model_data['BsmtCond'] == \"TA\", 5, \n",
    "                                                            np.where(model_data['BsmtCond'] == \"Fa\", 3, \n",
    "                                                                    np.where(model_data['BsmtCond'] == \"Po\", 2,0)))))\n",
    "\n",
    "    model_data['BsmtExposureInt'] =  np.where(model_data['BsmtExposure'] == \"Gd\", 7, \n",
    "                                            np.where(model_data['BsmtExposure'] == \"Av\", 5, \n",
    "                                                    np.where(model_data['BsmtExposure'] == \"Mn\", 3, \n",
    "                                                            np.where(model_data['BsmtExposure'] == \"No\", 1, 0))))\n",
    "\n",
    "    model_data['BsmtFinType1Int'] =  np.where(model_data['BsmtFinType1'] == \"GLQ\", 9, \n",
    "                                            np.where(model_data['BsmtFinType1'] == \"ALQ\", 7, \n",
    "                                                    np.where(model_data['BsmtFinType1'] == \"BLQ\", 5, \n",
    "                                                            np.where(model_data['BsmtFinType1'] == \"Rec\", 3, \n",
    "                                                                    np.where(model_data['BsmtFinType1'] == \"LWQ\", 1,\n",
    "                                                                            np.where(model_data['BsmtFinType1'] == \"Unf\",1,0))))))\n",
    "\n",
    "    model_data['BsmtFinType2Int'] =  np.where(model_data['BsmtFinType2'] == \"GLQ\", 9, \n",
    "                                            np.where(model_data['BsmtFinType2'] == \"ALQ\", 7, \n",
    "                                                    np.where(model_data['BsmtFinType2'] == \"BLQ\", 5, \n",
    "                                                            np.where(model_data['BsmtFinType2'] == \"Rec\", 3, \n",
    "                                                                    np.where(model_data['BsmtFinType2'] == \"LWQ\", 1,\n",
    "                                                                            np.where(model_data['BsmtFinType2'] == \"Unf\",1,1))))))\n",
    "\n",
    "    model_data = model_data.drop(columns = ['BsmtQual', 'BsmtCond', 'BsmtExposure', 'BsmtFinType1', 'BsmtFinType2'])\n",
    "    \n",
    "    model_data['BsmtQualCondExposureType'] = (model_data['BsmtFinType2Int'] + model_data['BsmtFinType1Int'] \n",
    "                                                + model_data['BsmtExposureInt'] + model_data['BsmtCondInt'] \n",
    "                                                + model_data['BsmtQualInt'])\n",
    "    \n",
    "    # Add intvariables for GarageQual and GarageCond\n",
    "    model_data['GarageCondInt'] =  np.where(model_data['GarageCond'] == \"Ex\", 9, \n",
    "                                            np.where(model_data['GarageCond'] == \"Gd\", 7, \n",
    "                                                    np.where(model_data['GarageCond'] == \"TA\", 5, \n",
    "                                                            np.where(model_data['GarageCond'] == \"Fa\", 3, \n",
    "                                                                    np.where(model_data['GarageCond'] == \"Po\", 2,0)))))\n",
    "\n",
    "    model_data['GarageQualInt'] =  np.where(model_data['GarageQual'] == \"Ex\", 9, \n",
    "                                            np.where(model_data['GarageQual'] == \"Gd\", 7, \n",
    "                                                    np.where(model_data['GarageQual'] == \"TA\", 5, \n",
    "                                                            np.where(model_data['GarageQual'] == \"Fa\", 3, \n",
    "                                                                    np.where(model_data['GarageQual'] == \"Po\", 2,0)))))\n",
    "\n",
    "    model_data['GarageCondQual'] = (model_data['GarageCondInt'] + model_data['GarageQualInt'])\n",
    "\n",
    "    model_data = model_data.drop(columns = ['GarageCond', 'GarageQual'])\n",
    "    \n",
    "    # Add interaction variables for KitchenQual\n",
    "    model_data['KitchenQualInt'] =  np.where(model_data['KitchenQual'] == \"Ex\", 9, \n",
    "                                            np.where(model_data['KitchenQual'] == \"Gd\", 7, \n",
    "                                                    np.where(model_data['KitchenQual'] == \"TA\", 5, \n",
    "                                                            np.where(model_data['KitchenQual'] == \"Fa\", 3, \n",
    "                                                                    np.where(model_data['KitchenQual'] == \"Po\", 2,0)))))\n",
    "    model_data = model_data.drop(columns = ['KitchenQual'])\n",
    "\n",
    "    model_data['IsNotNormal'] = np.where(model_data['SaleCondition'] == \"Normal\", 0,1)\n",
    "    model_data = model_data.drop(columns = ['SaleCondition'])\n",
    "\n",
    "    model_data['IsRL'] = np.where(model_data['MSZoning'] == \"RL\", 1, 0)\n",
    "    model_data = model_data.drop(columns = [\"MSZoning\"])\n",
    "\n",
    "    model_data['IsWD'] = np.where(model_data['SaleType'] != 'WD', 1, 0)\n",
    "    model_data = model_data.drop(columns = ['SaleType'])\n",
    "\n",
    "    # Sum up all the qual and condition variables\n",
    "    model_data['SumCondQualFea'] = (model_data['OverallCondQual'] + \n",
    "                                  model_data['ExterCondInt'] + model_data['ExterQualInt'] + \n",
    "                                  model_data['BsmtFinType2Int'] + model_data['BsmtFinType1Int'] +\n",
    "                                  model_data['BsmtExposureInt'] + model_data['BsmtCondInt'] +\n",
    "                                  model_data['BsmtQualInt'] + model_data['GarageCondInt'] +\n",
    "                                  model_data['GarageQualInt'] + model_data['KitchenQualInt'])\n",
    "    model_data['SumCondQualFea'] = (model_data['SumCondQualFea']**2)\n",
    "\n",
    "    model_data['IsNotTyp'] = np.where(model_data['Functional'] != 'Typ', 1, 0)\n",
    "    \n",
    "    # Replace any null values in categorical variables with 'Not Available'\n",
    "    for i in model_data.columns:\n",
    "        if model_data[i].dtypes == 'object':\n",
    "            model_data[i] = model_data[i].fillna('Not_Available')\n",
    "    \n",
    "    model_data = pd.get_dummies(model_data, drop_first=True)\n",
    "    \n",
    "    # Delete any Not_Available columns (no use in the model)\n",
    "    model_data = model_data[model_data.columns.drop(list(model_data.filter(regex='Not_Available')))]\n",
    "    \n",
    "    id_col = model_data['Id']\n",
    "    \n",
    "    # Drop basementSF columns as it is taken care in the TotalSF Features and drop id columm\n",
    "    model_data = model_data.drop(columns = ['Id', 'BsmtFinSF1', 'BsmtFinSF2', 'BsmtUnfSF'])\n",
    "    # Drop month and year sold because that does not affect the variance of the house prices (see EDA)\n",
    "    model_data = model_data.drop(columns=['MoSold', 'YrSold'])\n",
    "    \n",
    "    # Combine the bath columms and drop all the original bathroom columns\n",
    "    model_data['num_bathroom'] = (model_data['BsmtFullBath'] + model_data['FullBath'] + \n",
    "                                  (model_data['BsmtHalfBath'] / 2) + (model_data['HalfBath'] / 2))\n",
    "    \n",
    "    model_data =  model_data.drop(columns=['BsmtFullBath', 'FullBath', 'HalfBath', 'BsmtHalfBath'])\n",
    "    \n",
    "\n",
    "    \n",
    "    return model_data, id_col"
   ]
  },
  {
   "cell_type": "code",
   "execution_count": 215,
   "metadata": {},
   "outputs": [],
   "source": [
    "def feature_engineering_v3(model_data):\n",
    "    # test_data has some nulls. Fill them with 0\n",
    "    model_data['BsmtFullBath'] = model_data['BsmtFullBath'].fillna(0)\n",
    "    model_data['BsmtHalfBath'] = model_data['BsmtHalfBath'].fillna(0)\n",
    "    model_data['GarageCars'] = model_data['GarageCars'].fillna(0)\n",
    "    \n",
    "    # fill na with 0 in the GarageYrBuilt column\n",
    "    model_data['GarageYrBlt'] = model_data['GarageYrBlt'].fillna(0.0)\n",
    "    \n",
    "    model_data['TotalLotArea'] = model_data['LotFrontage'].fillna(0) + model_data['LotArea']\n",
    "    model_data = model_data.drop(columns=['LotFrontage', 'LotArea'])\n",
    "    # This code is for living SF\n",
    "    model_data['HaveBsmt'] = np.where(model_data['TotalBsmtSF'] == 0, 0,1)\n",
    "    model_data['Have2ndFlr'] = np.where(model_data['2ndFlrSF'] == 0, 0,1)\n",
    "    model_data['living_SF'] = (model_data['1stFlrSF'].fillna(0) + model_data['2ndFlrSF'].fillna(0) \n",
    "                               + model_data['TotalBsmtSF'].fillna(0))\n",
    "    # Also dropping the lowqualitySF feature\n",
    "    model_data = model_data.drop(columns=['1stFlrSF', '2ndFlrSF', 'TotalBsmtSF', 'LowQualFinSF'])\n",
    "    \n",
    "    # Make binary variables for the SF features\n",
    "    model_data['MasVnrArea'] = model_data['MasVnrArea'].fillna(0)\n",
    "    model_data['MasVnrAreaBin'] = np.where(model_data['MasVnrArea'] == 0, 0,1)\n",
    "    model_data['WoodDeckSFBin'] = np.where(model_data['WoodDeckSF'] == 0, 0,1)\n",
    "    model_data['HaveGarage'] = np.where(model_data['GarageArea'] == 0, 0,1)\n",
    "    model_data['OpenPorchSFBin'] = np.where(model_data['OpenPorchSF'] == 0, 0,1)\n",
    "    model_data['EnclosedPorchBin'] = np.where(model_data['EnclosedPorch'] == 0, 0,1)\n",
    "    model_data['3SsnPorchBin'] = np.where(model_data['3SsnPorch'] == 0, 0,1)\n",
    "    model_data['ScreenPorchBin'] = np.where(model_data['ScreenPorch'] == 0, 0,1)\n",
    "    model_data['PoolAreaBin'] = np.where(model_data['PoolArea'] == 0, 0,1)\n",
    "    \n",
    "    # Sum up all the SF features as TotalSFfeatures\n",
    "    model_data['TotalSFFeatures'] = (model_data['MasVnrArea'].fillna(0) + model_data['GarageArea'].fillna(0) \n",
    "                                     + model_data['WoodDeckSF'].fillna(0) + model_data['OpenPorchSF'].fillna(0) \n",
    "                                     + model_data['EnclosedPorch'].fillna(0) + model_data['3SsnPorch'].fillna(0) \n",
    "                                     + model_data['ScreenPorch'].fillna(0) + model_data['PoolArea'].fillna(0))\n",
    "    \n",
    "    # Drop the columns that you have applied EDA on\n",
    "    model_data = model_data.drop(columns=['MasVnrArea','WoodDeckSF', 'GarageArea', 'OpenPorchSF', \n",
    "                                          'EnclosedPorch', '3SsnPorch', 'ScreenPorch', 'PoolArea'])\n",
    "    \n",
    "    # Apply Feature Engineering on OverallCond and OverallQual columns\n",
    "    model_data['OverallCondQual'] = (model_data['OverallCond'] * 1)+(model_data['OverallQual'])\n",
    "    model_data = model_data.drop(columns = ['OverallCond', 'OverallQual'])\n",
    "    \n",
    "    # Add int variables for ExterQual and ExterCond\n",
    "    model_data['ExterQualInt'] =  np.where(model_data['ExterQual'] == \"Ex\", 9, \n",
    "                                            np.where(model_data['ExterQual'] == \"Gd\", 7, \n",
    "                                                    np.where(model_data['ExterQual'] == \"TA\", 5, \n",
    "                                                            np.where(model_data['ExterQual'] == \"Fa\", 3, \n",
    "                                                                    np.where(model_data['ExterQual'] == \"Po\", 2,0)))))\n",
    "    model_data['ExterCondInt'] =  np.where(model_data['ExterCond'] == \"Ex\", 9, \n",
    "                                             np.where(model_data['ExterCond'] == \"Gd\", 7, \n",
    "                                                    np.where(model_data['ExterCond'] == \"TA\", 5, \n",
    "                                                            np.where(model_data['ExterCond'] == \"Fa\", 3, \n",
    "                                                                    np.where(model_data['ExterCond'] == \"Po\", 2,0)))))\n",
    "    model_data['ExterCondQual'] = (model_data['ExterCondInt']*1) + (model_data['ExterQualInt']*1)\n",
    "    # Drop original ExterQual and ExterCond and keep int columns\n",
    "    model_data = model_data.drop(columns=['ExterQual', 'ExterCond'])\n",
    "    \n",
    "    # Add int variables for all categorical basement variables\n",
    "    model_data['BsmtQualInt'] =  np.where(model_data['BsmtQual'] == \"Ex\", 9, \n",
    "                                            np.where(model_data['BsmtQual'] == \"Gd\", 7, \n",
    "                                                    np.where(model_data['BsmtQual'] == \"TA\", 5, \n",
    "                                                            np.where(model_data['BsmtQual'] == \"Fa\", 3, \n",
    "                                                                    np.where(model_data['BsmtQual'] == \"Po\", 2,0)))))\n",
    "\n",
    "    model_data['BsmtCondInt'] =  np.where(model_data['BsmtCond'] == \"Ex\", 9, \n",
    "                                            np.where(model_data['BsmtCond'] == \"Gd\", 7, \n",
    "                                                    np.where(model_data['BsmtCond'] == \"TA\", 5, \n",
    "                                                            np.where(model_data['BsmtCond'] == \"Fa\", 3, \n",
    "                                                                    np.where(model_data['BsmtCond'] == \"Po\", 2,0)))))\n",
    "\n",
    "    model_data['BsmtExposureInt'] =  np.where(model_data['BsmtExposure'] == \"Gd\", 7, \n",
    "                                            np.where(model_data['BsmtExposure'] == \"Av\", 5, \n",
    "                                                    np.where(model_data['BsmtExposure'] == \"Mn\", 3, \n",
    "                                                            np.where(model_data['BsmtExposure'] == \"No\", 1, 0))))\n",
    "\n",
    "    model_data['BsmtFinType1Int'] =  np.where(model_data['BsmtFinType1'] == \"GLQ\", 9, \n",
    "                                            np.where(model_data['BsmtFinType1'] == \"ALQ\", 7, \n",
    "                                                    np.where(model_data['BsmtFinType1'] == \"BLQ\", 5, \n",
    "                                                            np.where(model_data['BsmtFinType1'] == \"Rec\", 3, \n",
    "                                                                    np.where(model_data['BsmtFinType1'] == \"LWQ\", 1,\n",
    "                                                                            np.where(model_data['BsmtFinType1'] == \"Unf\",1,0))))))\n",
    "\n",
    "    model_data['BsmtFinType2Int'] =  np.where(model_data['BsmtFinType2'] == \"GLQ\", 9, \n",
    "                                            np.where(model_data['BsmtFinType2'] == \"ALQ\", 7, \n",
    "                                                    np.where(model_data['BsmtFinType2'] == \"BLQ\", 5, \n",
    "                                                            np.where(model_data['BsmtFinType2'] == \"Rec\", 3, \n",
    "                                                                    np.where(model_data['BsmtFinType2'] == \"LWQ\", 1,\n",
    "                                                                            np.where(model_data['BsmtFinType2'] == \"Unf\",1,1))))))\n",
    "\n",
    "    model_data = model_data.drop(columns = ['BsmtQual', 'BsmtCond', 'BsmtExposure', 'BsmtFinType1', 'BsmtFinType2'])\n",
    "    \n",
    "    model_data['BsmtQualCondExposureType'] = (model_data['BsmtFinType2Int'] + model_data['BsmtFinType1Int'] \n",
    "                                                + model_data['BsmtExposureInt'] + model_data['BsmtCondInt'] \n",
    "                                                + model_data['BsmtQualInt'])\n",
    "    \n",
    "    # Add intvariables for GarageQual and GarageCond\n",
    "    model_data['GarageCondInt'] =  np.where(model_data['GarageCond'] == \"Ex\", 9, \n",
    "                                            np.where(model_data['GarageCond'] == \"Gd\", 7, \n",
    "                                                    np.where(model_data['GarageCond'] == \"TA\", 5, \n",
    "                                                            np.where(model_data['GarageCond'] == \"Fa\", 3, \n",
    "                                                                    np.where(model_data['GarageCond'] == \"Po\", 2,0)))))\n",
    "\n",
    "    model_data['GarageQualInt'] =  np.where(model_data['GarageQual'] == \"Ex\", 9, \n",
    "                                            np.where(model_data['GarageQual'] == \"Gd\", 7, \n",
    "                                                    np.where(model_data['GarageQual'] == \"TA\", 5, \n",
    "                                                            np.where(model_data['GarageQual'] == \"Fa\", 3, \n",
    "                                                                    np.where(model_data['GarageQual'] == \"Po\", 2,0)))))\n",
    "\n",
    "    model_data['GarageCondQual'] = (model_data['GarageCondInt'] + model_data['GarageQualInt'])\n",
    "\n",
    "    model_data = model_data.drop(columns = ['GarageCond', 'GarageQual'])\n",
    "    \n",
    "    # Add interaction variables for KitchenQual\n",
    "    model_data['KitchenQualInt'] =  np.where(model_data['KitchenQual'] == \"Ex\", 9, \n",
    "                                            np.where(model_data['KitchenQual'] == \"Gd\", 7, \n",
    "                                                    np.where(model_data['KitchenQual'] == \"TA\", 5, \n",
    "                                                            np.where(model_data['KitchenQual'] == \"Fa\", 3, \n",
    "                                                                    np.where(model_data['KitchenQual'] == \"Po\", 2,0)))))\n",
    "    model_data = model_data.drop(columns = ['KitchenQual'])\n",
    "\n",
    "    model_data['IsNotNormal'] = np.where(model_data['SaleCondition'] == \"Normal\", 0,1)\n",
    "    model_data = model_data.drop(columns = ['SaleCondition'])\n",
    "\n",
    "    model_data['IsRL'] = np.where(model_data['MSZoning'] == \"RL\", 1, 0)\n",
    "    model_data = model_data.drop(columns = [\"MSZoning\"])\n",
    "\n",
    "    model_data['IsWD'] = np.where(model_data['SaleType'] != 'WD', 1, 0)\n",
    "    model_data = model_data.drop(columns = ['SaleType'])\n",
    "\n",
    "    # Sum up all the qual and condition variables\n",
    "    model_data['SumCondQualFea'] = (model_data['OverallCondQual'] + \n",
    "                                  model_data['ExterCondInt'] + model_data['ExterQualInt'] + \n",
    "                                  model_data['BsmtFinType2Int'] + model_data['BsmtFinType1Int'] +\n",
    "                                  model_data['BsmtExposureInt'] + model_data['BsmtCondInt'] +\n",
    "                                  model_data['BsmtQualInt'] + model_data['GarageCondInt'] +\n",
    "                                  model_data['GarageQualInt'] + model_data['KitchenQualInt'])\n",
    "    model_data['SumCondQualFea'] = (model_data['SumCondQualFea']**2)\n",
    "\n",
    "    model_data['IsNotTyp'] = np.where(model_data['Functional'] != 'Typ', 1, 0)\n",
    "    \n",
    "    # Replace any null values in categorical variables with 'Not Available'\n",
    "    for i in model_data.columns:\n",
    "        if model_data[i].dtypes == 'object':\n",
    "            model_data[i] = model_data[i].fillna('Not_Available')\n",
    "    \n",
    "    model_data = pd.get_dummies(model_data, drop_first=True)\n",
    "    \n",
    "    # Delete any Not_Available columns (no use in the model)\n",
    "    model_data = model_data[model_data.columns.drop(list(model_data.filter(regex='Not_Available')))]\n",
    "    \n",
    "    id_col = model_data['Id']\n",
    "    \n",
    "    # Drop basementSF columns as it is taken care in the TotalSF Features and drop id columm\n",
    "    model_data = model_data.drop(columns = ['Id', 'BsmtFinSF1', 'BsmtFinSF2', 'BsmtUnfSF'])\n",
    "    # Drop month and year sold because that does not affect the variance of the house prices (see EDA)\n",
    "    model_data = model_data.drop(columns=['MoSold', 'YrSold'])\n",
    "    \n",
    "    # Combine the bath columms and drop all the original bathroom columns\n",
    "    model_data['num_bathroom'] = (model_data['BsmtFullBath'] + model_data['FullBath'] + \n",
    "                                  (model_data['BsmtHalfBath'] / 2) + (model_data['HalfBath'] / 2))\n",
    "    \n",
    "    model_data =  model_data.drop(columns=['BsmtFullBath', 'FullBath', 'HalfBath', 'BsmtHalfBath'])\n",
    "    \n",
    "    model_data = model_data.drop(columns = ['Alley_Pave', 'Neighborhood_Blueste', 'Neighborhood_BrDale', 'Condition1_PosN',\n",
    "                           'Condition1_RRAn', 'BldgType_Duplex', 'RoofMatl_WdShake', 'Exterior1st_AsphShn',\n",
    "                          'Exterior2nd_Brk Cmn', 'Exterior2nd_CBlock', 'Foundation_Wood', 'Functional_Sev',\n",
    "                          'GarageType_CarPort', 'Fence_GdWo', 'Fence_MnWw', 'MiscFeature_Othr'])\n",
    "    \n",
    "    model_data = model_data.drop(columns=['BsmtExposureInt','BsmtFinType1Int', 'BsmtFinType2Int', 'BsmtQualInt', \n",
    "                                          'BsmtCondInt'])\n",
    "    \n",
    "    model_data = model_data.drop(columns = ['LotShape_Reg', 'HouseStyle_SFoyer', 'Exterior1st_BrkComm',\n",
    "                                        'Exterior1st_VinylSd', 'Exterior2nd_AsphShn', 'Exterior2nd_CmentBd', \n",
    "                                        'Exterior2nd_Wd Shng', 'Heating_Grav', 'PavedDrive_P'])\n",
    "    \n",
    "    model_data = model_data.drop(columns=['MasVnrAreaBin', '3SsnPorchBin', 'LotShape_IR2', 'Neighborhood_MeadowV', \n",
    "                                      'Condition1_PosA', 'Condition1_RRNn'])\n",
    "    \n",
    "    model_data = model_data.drop(columns = ['WoodDeckSFBin', 'LotConfig_FR3', 'Neighborhood_BrkSide',\n",
    "                                        'Neighborhood_NPkVill', 'Electrical_FuseP', 'PoolQC_Gd'])\n",
    "    \n",
    "    model_data = model_data.drop(columns = ['Exterior2nd_BrkFace', 'Functional_Mod', 'GarageType_Attchd'])\n",
    "    \n",
    "    model_data = model_data.drop(columns = ['HaveBsmt', 'HaveGarage', 'ScreenPorchBin', 'PoolAreaBin', \n",
    "                                        'LotShape_IR3', 'Neighborhood_Timber', 'Condition1_Norm', \n",
    "                                        'Condition1_RRNe', 'Condition2_PosA', 'Condition2_PosN', 'BldgType_2fmCon', \n",
    "                                       'HouseStyle_1.5Unf', 'HouseStyle_2Story', 'Exterior2nd_Stone', 'Foundation_Slab'\n",
    "                                       , 'Heating_Wall'])\n",
    "    model_data = model_data.drop(columns = ['Have2ndFlr', 'IsRL', 'LandContour_Low', 'LandSlope_Sev', 'BldgType_Twnhs',\n",
    "                                       'HouseStyle_1Story', 'RoofStyle_Shed', 'Electrical_FuseF'])\n",
    "    \n",
    "    model_data = model_data.drop(columns = ['ExterCondInt', 'IsNotNormal', 'Exterior1st_CBlock', 'Exterior1st_Stucco',\n",
    "                                        'HeatingQC_Fa', 'HeatingQC_Po', 'Functional_Typ'])\n",
    "    \n",
    "    return model_data, id_col"
   ]
  },
  {
   "cell_type": "markdown",
   "metadata": {},
   "source": [
    "# LR Model with regulization"
   ]
  },
  {
   "cell_type": "code",
   "execution_count": 216,
   "metadata": {},
   "outputs": [
    {
     "name": "stdout",
     "output_type": "stream",
     "text": [
      "(1460, 182)\n",
      "(1459, 182)\n"
     ]
    }
   ],
   "source": [
    "# Read in the test data and perform the same feature engineering as done with the train data\n",
    "# read in the data\n",
    "filepath = '//Users//josephcolaco//predicting_house_prices//data//'\n",
    "train_data = pd.read_csv(filepath + 'train.csv')\n",
    "test_data = pd.read_csv(filepath + 'test.csv')\n",
    "\n",
    "train_data, train_id = feature_engineering_v1(train_data)\n",
    "train_saleprice = train_data['SalePrice']\n",
    "test_data, test_id = feature_engineering_v1(test_data)\n",
    "train_data = train_data[list(test_data.columns)]\n",
    "print(train_data.shape)\n",
    "print(test_data.shape)"
   ]
  },
  {
   "cell_type": "code",
   "execution_count": 217,
   "metadata": {},
   "outputs": [
    {
     "name": "stdout",
     "output_type": "stream",
     "text": [
      "R2 is: 0.9200599181329416\n",
      "Training average percent error is 8.97 %.\n",
      "Validation average percent error is 11.68 %.\n",
      "Difference is: 2.71\n"
     ]
    },
    {
     "data": {
      "image/png": "[encoded data removed]",
      "text/plain": [
       "<Figure size 432x288 with 1 Axes>"
      ]
     },
     "metadata": {},
     "output_type": "display_data"
    },
    {
     "data": {
      "image/png": "[encoded data removed]",
      "text/plain": [
       "<Figure size 432x288 with 1 Axes>"
      ]
     },
     "metadata": {},
     "output_type": "display_data"
    }
   ],
   "source": [
    "test_predictions = run_model_inputs(train_data, train_id, train_saleprice, test_data, test_id)"
   ]
  },
  {
   "cell_type": "code",
   "execution_count": 131,
   "metadata": {
    "scrolled": true
   },
   "outputs": [
    {
     "name": "stdout",
     "output_type": "stream",
     "text": [
      "Taking out: 0.09836065573770492\n",
      "Alley_Pave              0.0\n",
      "Neighborhood_Blueste    0.0\n",
      "Neighborhood_BrDale     0.0\n",
      "Condition1_PosN         0.0\n",
      "Condition1_RRAn         0.0\n",
      "BldgType_Duplex         0.0\n",
      "RoofMatl_WdShake        0.0\n",
      "Exterior1st_AsphShn     0.0\n",
      "Exterior1st_BrkComm     0.0\n",
      "Exterior2nd_AsphShn     0.0\n",
      "Exterior2nd_Brk Cmn     0.0\n",
      "Exterior2nd_CBlock      0.0\n",
      "Foundation_Wood         0.0\n",
      "Functional_Sev          0.0\n",
      "GarageType_CarPort      0.0\n",
      "Fence_GdWo              0.0\n",
      "Fence_MnWw              0.0\n",
      "MiscFeature_Othr        0.0\n",
      "dtype: float64\n"
     ]
    }
   ],
   "source": [
    "# Build a model with all features to simply predict sales price\n",
    "train_X, validate_X, train_y, validate_y = train_test_split(\n",
    "    train_data, train_saleprice, test_size=0.2, random_state=43344)\n",
    "\n",
    "model = sm.OLS(train_y, sm.add_constant(train_X)).fit_regularized(method='elastic_net', alpha=0.5, L1_wt =1)\n",
    "print('Taking out:', model.params[model.params == 0].shape[0]/model.params.shape[0])\n",
    "print(model.params[model.params == 0])"
   ]
  },
  {
   "cell_type": "code",
   "execution_count": 132,
   "metadata": {
    "scrolled": true
   },
   "outputs": [
    {
     "name": "stdout",
     "output_type": "stream",
     "text": [
      "(1460, 166)\n",
      "(1459, 166)\n"
     ]
    }
   ],
   "source": [
    "train_data = train_data.drop(columns = ['Alley_Pave', 'Neighborhood_Blueste', 'Neighborhood_BrDale', 'Condition1_PosN',\n",
    "                           'Condition1_RRAn', 'BldgType_Duplex', 'RoofMatl_WdShake', 'Exterior1st_AsphShn',\n",
    "                          'Exterior2nd_Brk Cmn', 'Exterior2nd_CBlock', 'Foundation_Wood', 'Functional_Sev',\n",
    "                          'GarageType_CarPort', 'Fence_GdWo', 'Fence_MnWw', 'MiscFeature_Othr'])\n",
    "test_data = test_data.drop(columns = ['Alley_Pave', 'Neighborhood_Blueste', 'Neighborhood_BrDale', 'Condition1_PosN',\n",
    "                           'Condition1_RRAn', 'BldgType_Duplex', 'RoofMatl_WdShake', 'Exterior1st_AsphShn',\n",
    "                          'Exterior2nd_Brk Cmn', 'Exterior2nd_CBlock', 'Foundation_Wood', 'Functional_Sev',\n",
    "                          'GarageType_CarPort', 'Fence_GdWo', 'Fence_MnWw', 'MiscFeature_Othr'])\n",
    "\n",
    "print(train_data.shape)\n",
    "print(test_data.shape)"
   ]
  },
  {
   "cell_type": "code",
   "execution_count": 133,
   "metadata": {
    "scrolled": true
   },
   "outputs": [
    {
     "name": "stdout",
     "output_type": "stream",
     "text": [
      "R2 is: 0.9189940178222984\n",
      "Training average percent error is 9.09 %.\n",
      "Validation average percent error is 11.5 %.\n",
      "Difference is: 2.42\n"
     ]
    },
    {
     "data": {
      "image/png": "[encoded data removed]",
      "text/plain": [
       "<Figure size 432x288 with 1 Axes>"
      ]
     },
     "metadata": {},
     "output_type": "display_data"
    },
    {
     "data": {
      "image/png": "[encoded data removed]",
      "text/plain": [
       "<Figure size 432x288 with 1 Axes>"
      ]
     },
     "metadata": {},
     "output_type": "display_data"
    }
   ],
   "source": [
    "test_predictions = run_model_inputs(train_data, train_id, train_saleprice, test_data, test_id)"
   ]
  },
  {
   "cell_type": "markdown",
   "metadata": {},
   "source": [
    "#### Model is doing a lot better after taking out terms with params 0 from regulization. Updating the feature_eng_v3 by dropping these columns"
   ]
  },
  {
   "cell_type": "markdown",
   "metadata": {},
   "source": [
    "#### Applied regulization again and found out the following columns have params of zero (alpha value: 1)\n",
    "(columns = ['LotShape_Reg', 'HouseStyle_SFoyer', 'Exterior1st_BrkComm',\n",
    "                                        'Exterior1st_VinylSd', 'Exterior2nd_AsphShn', 'Exterior2nd_CmentBd', \n",
    "                                        'Exterior2nd_Wd Shng', 'Heating_Grav', 'PavedDrive_P'])"
   ]
  },
  {
   "cell_type": "markdown",
   "metadata": {},
   "source": [
    "# LR with feature eng V3"
   ]
  },
  {
   "cell_type": "code",
   "execution_count": 176,
   "metadata": {},
   "outputs": [
    {
     "name": "stdout",
     "output_type": "stream",
     "text": [
      "(1460, 146)\n",
      "(1459, 146)\n"
     ]
    }
   ],
   "source": [
    "# Read in the test data and perform the same feature engineering as done with the train data\n",
    "# read in the data\n",
    "filepath = '//Users//josephcolaco//predicting_house_prices//data//'\n",
    "train_data = pd.read_csv(filepath + 'train.csv')\n",
    "test_data = pd.read_csv(filepath + 'test.csv')\n",
    "\n",
    "train_data, train_id = feature_engineering_v3(train_data)\n",
    "train_saleprice = train_data['SalePrice']\n",
    "test_data, test_id = feature_engineering_v3(test_data)\n",
    "train_data = train_data[list(test_data.columns)]\n",
    "print(train_data.shape)\n",
    "print(test_data.shape)"
   ]
  },
  {
   "cell_type": "markdown",
   "metadata": {},
   "source": [
    "#### Dropping the basement int features improves the model so I will add it to feature eng v3"
   ]
  },
  {
   "cell_type": "code",
   "execution_count": 138,
   "metadata": {},
   "outputs": [
    {
     "name": "stdout",
     "output_type": "stream",
     "text": [
      "R2 is: 0.9172832650510253\n",
      "Training average percent error is 9.18 %.\n",
      "Validation average percent error is 11.22 %.\n",
      "Difference is: 2.04\n"
     ]
    },
    {
     "data": {
      "image/png": "[encoded data removed]",
      "text/plain": [
       "<Figure size 432x288 with 1 Axes>"
      ]
     },
     "metadata": {},
     "output_type": "display_data"
    },
    {
     "data": {
      "image/png": "[encoded data removed]",
      "text/plain": [
       "<Figure size 432x288 with 1 Axes>"
      ]
     },
     "metadata": {},
     "output_type": "display_data"
    }
   ],
   "source": [
    "test_predictions = run_model_inputs(train_data, train_id, train_saleprice, test_data, test_id)\n",
    "# Export submit csv (Score: 0.16778)\n",
    "# submit_filepath = '//Users//josephcolaco//predicting_house_prices//'\n",
    "# test_predictions.to_csv(submit_filepath + 'fea_eng_v3.csv', index=False, header=True)"
   ]
  },
  {
   "cell_type": "markdown",
   "metadata": {},
   "source": [
    "### Applied regulization again and took out the following columns:\n",
    "\n",
    "columns=['MasVnrAreaBin', '3SsnPorchBin', 'LotShape_IR2', 'Neighborhood_MeadowV', \n",
    "                                      'Condition1_PosA', 'Condition1_RRNn']\n",
    "                                      \n",
    "columns = ['WoodDeckSFBin', 'LotConfig_FR3', 'Neighborhood_BrkSide',\n",
    "                                         'Neighborhood_NPkVill', 'Electrical_FuseP', 'PoolQC_Gd']\n",
    "                                         \n",
    "columns = ['Exterior2nd_BrkFace', 'Functional_Mod', 'GarageType_Attchd'])\n",
    "\n",
    "columns = ['HaveBsmt', 'HaveGarage', 'ScreenPorchBin', 'PoolAreaBin', \n",
    "                                        'LotShape_IR3', 'Neighborhood_Timber', 'Condition1_Norm', \n",
    "                                        'Condition1_RRNe', 'Condition2_PosA', 'Condition2_PosN', 'BldgType_2fmCon', \n",
    "                                       'HouseStyle_1.5Unf', 'HouseStyle_2Story', 'Exterior2nd_Stone','Foundation_Slab', 'Heating_Wall'])\n",
    "                                       \n",
    "                                       \n",
    "[v5] columns = ['Have2ndFlr', 'IsRL', 'LandContour_Low', 'LandSlope_Sev', 'BldgType_Twnhs',\n",
    "                                       'HouseStyle_1Story', 'RoofStyle_Shed', 'Electrical_FuseF'])\n",
    "\n",
    "[v6] columns = ['ExterCondInt', 'IsNotNormal', 'Exterior1st_CBlock', 'Exterior1st_Stucco',\n",
    "                                        'HeatingQC_Fa', 'HeatingQC_Po', 'Functional_Typ'])"
   ]
  },
  {
   "cell_type": "code",
   "execution_count": 261,
   "metadata": {},
   "outputs": [
    {
     "name": "stdout",
     "output_type": "stream",
     "text": [
      "(1460, 113)\n",
      "(1459, 113)\n"
     ]
    }
   ],
   "source": [
    "# Read in the test data and perform the same feature engineering as done with the train data\n",
    "# read in the data\n",
    "filepath = '//Users//josephcolaco//predicting_house_prices//data//'\n",
    "train_data = pd.read_csv(filepath + 'train.csv')\n",
    "test_data = pd.read_csv(filepath + 'test.csv')\n",
    "\n",
    "train_data, train_id = feature_engineering_v3(train_data)\n",
    "train_saleprice = train_data['SalePrice']\n",
    "test_data, test_id = feature_engineering_v3(test_data)\n",
    "train_data = train_data[list(test_data.columns)]\n",
    "print(train_data.shape)\n",
    "print(test_data.shape)"
   ]
  },
  {
   "cell_type": "code",
   "execution_count": 262,
   "metadata": {},
   "outputs": [
    {
     "name": "stdout",
     "output_type": "stream",
     "text": [
      "R2 is: 0.9040232309596496\n",
      "Training average percent error is 9.7 %.\n",
      "Validation average percent error is 10.94 %.\n",
      "Difference is: 1.24\n"
     ]
    },
    {
     "data": {
      "image/png": "[encoded data removed]",
      "text/plain": [
       "<Figure size 432x288 with 1 Axes>"
      ]
     },
     "metadata": {},
     "output_type": "display_data"
    },
    {
     "data": {
      "image/png": "[encoded data removed]",
      "text/plain": [
       "<Figure size 432x288 with 1 Axes>"
      ]
     },
     "metadata": {},
     "output_type": "display_data"
    }
   ],
   "source": [
    "test_predictions = run_model_inputs(train_data, train_id, train_saleprice, test_data, test_id)\n",
    "# Export submit csv (Score: 0.16656 [v1], 0.16458 [v2], 0.16661 [v3], 0.15725 [v4], 0.15701 [v5], 0.16022 [v6])\n",
    "# submit_filepath = '//Users//josephcolaco//predicting_house_prices//'\n",
    "# test_predictions.to_csv(submit_filepath + 'fea_eng_v3_v5.csv', index=False, header=True)"
   ]
  },
  {
   "cell_type": "code",
   "execution_count": null,
   "metadata": {},
   "outputs": [],
   "source": [
    "# Applying PCA to Non-Normalized Data"
   ]
  },
  {
   "cell_type": "code",
   "execution_count": 326,
   "metadata": {},
   "outputs": [
    {
     "name": "stdout",
     "output_type": "stream",
     "text": [
      "(1460, 113)\n",
      "(1459, 113)\n"
     ]
    }
   ],
   "source": [
    "# Read in the test data and perform the same feature engineering as done with the train data\n",
    "# read in the data\n",
    "filepath = '//Users//josephcolaco//predicting_house_prices//data//'\n",
    "train_data = pd.read_csv(filepath + 'train.csv')\n",
    "test_data = pd.read_csv(filepath + 'test.csv')\n",
    "\n",
    "train_data, train_id = feature_engineering_v3(train_data)\n",
    "train_saleprice = train_data['SalePrice']\n",
    "test_data, test_id = feature_engineering_v3(test_data)\n",
    "train_data = train_data[list(test_data.columns)]\n",
    "print(train_data.shape)\n",
    "print(test_data.shape)"
   ]
  },
  {
   "cell_type": "code",
   "execution_count": 352,
   "metadata": {},
   "outputs": [
    {
     "name": "stdout",
     "output_type": "stream",
     "text": [
      "No. of Features: 14\n",
      "R2 is: 0.8521594436339188\n",
      "Training average percent error is 11.6 %.\n",
      "Validation average percent error is 12.87 %.\n",
      "Difference is: 1.28\n"
     ]
    },
    {
     "data": {
      "image/png": "[encoded data removed]",
      "text/plain": [
       "<Figure size 432x288 with 1 Axes>"
      ]
     },
     "metadata": {},
     "output_type": "display_data"
    },
    {
     "data": {
      "image/png": "[encoded data removed]",
      "text/plain": [
       "<Figure size 432x288 with 1 Axes>"
      ]
     },
     "metadata": {},
     "output_type": "display_data"
    }
   ],
   "source": [
    "pca = PCA(n_components=round(train_data.shape[1]/8))\n",
    "train_components = pca.fit_transform(train_data)\n",
    "train_pca = pd.DataFrame(data = train_components)\n",
    "\n",
    "test_components = pca.fit_transform(train_data)\n",
    "test_pca = pd.DataFrame(data = test_components)\n",
    "\n",
    "print('No. of Features:', train_pca.shape[1])\n",
    "\n",
    "test_prediction = run_model_inputs(train_components, train_id, train_saleprice, test_components, test_id)\n",
    "# Export submit csv ()\n",
    "submit_filepath = '//Users//josephcolaco//predicting_house_prices//'\n",
    "test_predictions.to_csv(submit_filepath + 'fea_eng_v3_pca_' + str(train_pca.shape[1]) + '.csv', index=False, header=True)"
   ]
  },
  {
   "cell_type": "code",
   "execution_count": 224,
   "metadata": {},
   "outputs": [
    {
     "name": "stdout",
     "output_type": "stream",
     "text": [
      "MSSubClass\n",
      "YearBuilt\n",
      "YearRemodAdd\n",
      "GrLivArea\n",
      "BedroomAbvGr\n",
      "KitchenAbvGr\n",
      "TotRmsAbvGrd\n",
      "Fireplaces\n",
      "GarageYrBlt\n",
      "GarageCars\n",
      "MiscVal\n",
      "TotalLotArea\n",
      "living_SF\n",
      "OpenPorchSFBin\n",
      "EnclosedPorchBin\n",
      "TotalSFFeatures\n",
      "OverallCondQual\n",
      "ExterQualInt\n",
      "ExterCondInt\n",
      "ExterCondQual\n",
      "BsmtQualCondExposureType\n",
      "GarageCondInt\n",
      "GarageQualInt\n",
      "GarageCondQual\n",
      "KitchenQualInt\n",
      "IsNotNormal\n",
      "IsWD\n",
      "SumCondQualFea\n",
      "IsNotTyp\n",
      "Street_Pave\n",
      "LandContour_HLS\n",
      "LandContour_Lvl\n",
      "LotConfig_CulDSac\n",
      "LotConfig_FR2\n",
      "LotConfig_Inside\n",
      "LandSlope_Mod\n",
      "Neighborhood_ClearCr\n",
      "Neighborhood_CollgCr\n",
      "Neighborhood_Crawfor\n",
      "Neighborhood_Edwards\n",
      "Neighborhood_Gilbert\n",
      "Neighborhood_IDOTRR\n",
      "Neighborhood_Mitchel\n",
      "Neighborhood_NAmes\n",
      "Neighborhood_NWAmes\n",
      "Neighborhood_NoRidge\n",
      "Neighborhood_NridgHt\n",
      "Neighborhood_OldTown\n",
      "Neighborhood_SWISU\n",
      "Neighborhood_Sawyer\n",
      "Neighborhood_SawyerW\n",
      "Neighborhood_Somerst\n",
      "Neighborhood_StoneBr\n",
      "Neighborhood_Veenker\n",
      "Condition1_Feedr\n",
      "Condition1_RRAe\n",
      "Condition2_Feedr\n",
      "Condition2_Norm\n",
      "BldgType_TwnhsE\n",
      "HouseStyle_2.5Unf\n",
      "HouseStyle_SLvl\n",
      "RoofStyle_Gable\n",
      "RoofStyle_Gambrel\n",
      "RoofStyle_Hip\n",
      "RoofStyle_Mansard\n",
      "RoofMatl_Tar&Grv\n",
      "RoofMatl_WdShngl\n",
      "Exterior1st_BrkFace\n",
      "Exterior1st_CBlock\n",
      "Exterior1st_CemntBd\n",
      "Exterior1st_HdBoard\n",
      "Exterior1st_MetalSd\n",
      "Exterior1st_Plywood\n",
      "Exterior1st_Stucco\n",
      "Exterior1st_Wd Sdng\n",
      "Exterior1st_WdShing\n",
      "Exterior2nd_HdBoard\n",
      "Exterior2nd_ImStucc\n",
      "Exterior2nd_MetalSd\n",
      "Exterior2nd_Plywood\n",
      "Exterior2nd_Stucco\n",
      "Exterior2nd_VinylSd\n",
      "Exterior2nd_Wd Sdng\n",
      "MasVnrType_BrkFace\n",
      "MasVnrType_None\n",
      "MasVnrType_Stone\n",
      "Foundation_CBlock\n",
      "Foundation_PConc\n",
      "Foundation_Stone\n",
      "Heating_GasW\n",
      "HeatingQC_Fa\n",
      "HeatingQC_Gd\n",
      "HeatingQC_Po\n",
      "HeatingQC_TA\n",
      "CentralAir_Y\n",
      "Electrical_SBrkr\n",
      "Functional_Maj2\n",
      "Functional_Min1\n",
      "Functional_Min2\n",
      "Functional_Typ\n",
      "FireplaceQu_Fa\n",
      "FireplaceQu_Gd\n",
      "FireplaceQu_Po\n",
      "FireplaceQu_TA\n",
      "GarageType_Basment\n",
      "GarageType_BuiltIn\n",
      "GarageType_Detchd\n",
      "GarageFinish_RFn\n",
      "GarageFinish_Unf\n",
      "PavedDrive_Y\n",
      "Fence_MnPrv\n",
      "MiscFeature_Shed\n",
      "num_bathroom\n"
     ]
    }
   ],
   "source": [
    "for i in train_data.columns:\n",
    "    print(i)"
   ]
  },
  {
   "cell_type": "code",
   "execution_count": null,
   "metadata": {},
   "outputs": [],
   "source": []
  }
 ],
 "metadata": {
  "kernelspec": {
   "display_name": "Python 3",
   "language": "python",
   "name": "python3"
  },
  "language_info": {
   "codemirror_mode": {
    "name": "ipython",
    "version": 3
   },
   "file_extension": ".py",
   "mimetype": "text/x-python",
   "name": "python",
   "nbconvert_exporter": "python",
   "pygments_lexer": "ipython3",
   "version": "3.6.5"
  }
 },
 "nbformat": 4,
 "nbformat_minor": 2
}
