{
 "cells": [
  {
   "cell_type": "markdown",
   "metadata": {},
   "source": [
    "# 1.0 Read In Data"
   ]
  },
  {
   "cell_type": "code",
   "execution_count": 22,
   "metadata": {},
   "outputs": [],
   "source": [
    "# Import libraries needed for linear regression computation\n",
    "import pandas as pd\n",
    "import numpy as np\n",
    "import matplotlib\n",
    "import matplotlib.pyplot as plt\n",
    "import statsmodels.api as sm\n",
    "from sklearn.model_selection import train_test_split\n",
    "from sklearn.metrics import mean_squared_error\n",
    "from math import sqrt\n",
    "from sklearn import preprocessing\n",
    "from sklearn.preprocessing import StandardScaler\n",
    "from sklearn.preprocessing import MinMaxScaler\n",
    "from sklearn.feature_selection import chi2\n",
    "from sklearn.feature_selection import f_classif\n",
    "from sklearn.feature_selection import SelectPercentile\n",
    "import scipy.stats as stats\n",
    "import pylab \n",
    "import seaborn as sns\n",
    "from sklearn.metrics.pairwise import euclidean_distances\n",
    "from operator import itemgetter\n",
    "from sklearn.decomposition import PCA\n",
    "%matplotlib inline"
   ]
  },
  {
   "cell_type": "code",
   "execution_count": 48,
   "metadata": {},
   "outputs": [
    {
     "name": "stdout",
     "output_type": "stream",
     "text": [
      "Shape of train data: (1460, 81)\n",
      "Shape of test data: (1459, 80)\n"
     ]
    }
   ],
   "source": [
    "# read in the data\n",
    "filepath = '//Users//josephcolaco//predicting_house_prices//data//'\n",
    "train_data = pd.read_csv(filepath + 'train.csv')\n",
    "test_data = pd.read_csv(filepath + 'test.csv')\n",
    "print('Shape of train data:', train_data.shape)\n",
    "print('Shape of test data:', test_data.shape)"
   ]
  },
  {
   "cell_type": "markdown",
   "metadata": {},
   "source": [
    "Notice that the train data and the test data do not have the same number of columns. Let's fix this bellow by only selecting columns presented in both datasets."
   ]
  },
  {
   "cell_type": "code",
   "execution_count": 49,
   "metadata": {},
   "outputs": [
    {
     "name": "stdout",
     "output_type": "stream",
     "text": [
      "Shape of train data: (1460, 80)\n",
      "Shape of test data: (1459, 80)\n"
     ]
    }
   ],
   "source": [
    "train_data = train_data[test_data.columns]\n",
    "print('Shape of train data:', train_data.shape)\n",
    "print('Shape of test data:', test_data.shape)"
   ]
  },
  {
   "cell_type": "markdown",
   "metadata": {},
   "source": [
    "# 2.0 EDA"
   ]
  },
  {
   "cell_type": "markdown",
   "metadata": {},
   "source": [
    "First step is to view columns with null values. I will remove columns that have more than 90% of nulls. My gut feel is that fence is not a significant factor in determining house price so I will remove that column as well."
   ]
  },
  {
   "cell_type": "code",
   "execution_count": 50,
   "metadata": {},
   "outputs": [
    {
     "name": "stdout",
     "output_type": "stream",
     "text": [
      "              count_null  percent_null\n",
      "FireplaceQu          690      0.472603\n",
      "LotFrontage          259      0.177397\n",
      "GarageCond            81      0.055479\n",
      "GarageType            81      0.055479\n",
      "GarageYrBlt           81      0.055479\n",
      "GarageFinish          81      0.055479\n",
      "GarageQual            81      0.055479\n",
      "BsmtFinType2          38      0.026027\n",
      "BsmtExposure          38      0.026027\n",
      "BsmtFinType1          37      0.025342\n",
      "BsmtCond              37      0.025342\n",
      "BsmtQual              37      0.025342\n",
      "MasVnrArea             8      0.005479\n",
      "MasVnrType             8      0.005479\n",
      "Electrical             1      0.000685\n"
     ]
    }
   ],
   "source": [
    "# View at nulls\n",
    "null_cols = train_data.isnull().sum()\n",
    "null_cols = pd.DataFrame(null_data, columns=['count_null'])\n",
    "null_cols = null_cols.sort_values(by='count_null', ascending=False)\n",
    "null_cols['percent_null'] = null_cols['count_null']/train_data.shape[0]\n",
    "null_cols = null_cols[null_cols['count_null'] > 0]\n",
    "print(null_cols)\n",
    "\n",
    "# Remove nulls > 90%\n",
    "train_data = train_data.drop(columns = ['PoolQC', 'MiscFeature', 'Alley', 'Fence'])\n",
    "\n",
    "# Make a new null data dataframe\n",
    "null_cols = train_data.isnull().sum()\n",
    "null_cols = pd.DataFrame(null_data, columns=['count_null'])\n",
    "null_cols = null_cols.sort_values(by='count_null', ascending=False)\n",
    "null_cols['percent_null'] = null_cols['count_null']/train_data.shape[0]\n",
    "null_cols = null_cols[null_cols['count_null'] > 0]"
   ]
  },
  {
   "cell_type": "markdown",
   "metadata": {},
   "source": [
    "View the data types of the null columns. Most of the columns are null because the house does not have that specific feature. For example, houses that do not have a garage will have a null values for all garage related columns such as GarageYrBlt. \n",
    "\n",
    "For numeric columns such as LotFrontage and MasVnrArea, nulls can be replaced with 0. For other columnns with nulls, more investigations need to be done"
   ]
  },
  {
   "cell_type": "code",
   "execution_count": 55,
   "metadata": {},
   "outputs": [
    {
     "name": "stdout",
     "output_type": "stream",
     "text": [
      "FireplaceQu      object\n",
      "LotFrontage     float64\n",
      "GarageCond       object\n",
      "GarageType       object\n",
      "GarageYrBlt     float64\n",
      "GarageFinish     object\n",
      "GarageQual       object\n",
      "BsmtFinType2     object\n",
      "BsmtExposure     object\n",
      "BsmtFinType1     object\n",
      "BsmtCond         object\n",
      "BsmtQual         object\n",
      "MasVnrArea      float64\n",
      "MasVnrType       object\n",
      "Electrical       object\n",
      "dtype: object\n",
      "  FireplaceQu  LotFrontage GarageCond GarageType  GarageYrBlt GarageFinish  \\\n",
      "0         NaN         65.0         TA     Attchd       2003.0          RFn   \n",
      "1          TA         80.0         TA     Attchd       1976.0          RFn   \n",
      "2          TA         68.0         TA     Attchd       2001.0          RFn   \n",
      "3          Gd         60.0         TA     Detchd       1998.0          Unf   \n",
      "4          TA         84.0         TA     Attchd       2000.0          RFn   \n",
      "\n",
      "  GarageQual BsmtFinType2 BsmtExposure BsmtFinType1 BsmtCond BsmtQual  \\\n",
      "0         TA          Unf           No          GLQ       TA       Gd   \n",
      "1         TA          Unf           Gd          ALQ       TA       Gd   \n",
      "2         TA          Unf           Mn          GLQ       TA       Gd   \n",
      "3         TA          Unf           No          ALQ       Gd       TA   \n",
      "4         TA          Unf           Av          GLQ       TA       Gd   \n",
      "\n",
      "   MasVnrArea MasVnrType Electrical  \n",
      "0       196.0    BrkFace      SBrkr  \n",
      "1         0.0       None      SBrkr  \n",
      "2       162.0    BrkFace      SBrkr  \n",
      "3         0.0       None      SBrkr  \n",
      "4       350.0    BrkFace      SBrkr  \n"
     ]
    }
   ],
   "source": [
    "# View the dtypes of the columns\n",
    "null_data = train_data[null_cols.index]\n",
    "print(null_data.dtypes)\n",
    "print(null_data.head())\n",
    "\n",
    "train_data['LotFrontage'] = train_data['LotFrontage'].fillna(0)\n",
    "train_data['MasVnrArea'] = train_data['MasVnrArea'].fillna(0)"
   ]
  },
  {
   "cell_type": "markdown",
   "metadata": {},
   "source": [
    "Moving on to columns that are correlated with SalePrice"
   ]
  },
  {
   "cell_type": "code",
   "execution_count": null,
   "metadata": {},
   "outputs": [],
   "source": []
  },
  {
   "cell_type": "code",
   "execution_count": null,
   "metadata": {},
   "outputs": [],
   "source": [
    "# combine total SF features outside"
   ]
  },
  {
   "cell_type": "code",
   "execution_count": null,
   "metadata": {},
   "outputs": [],
   "source": [
    "# Look at outliers"
   ]
  },
  {
   "cell_type": "code",
   "execution_count": null,
   "metadata": {},
   "outputs": [],
   "source": [
    "# living SF"
   ]
  },
  {
   "cell_type": "markdown",
   "metadata": {},
   "source": [
    "# Feature Enginerring"
   ]
  },
  {
   "cell_type": "code",
   "execution_count": null,
   "metadata": {},
   "outputs": [],
   "source": [
    "# Feature Eng V1"
   ]
  },
  {
   "cell_type": "markdown",
   "metadata": {},
   "source": [
    "# Linear Regression"
   ]
  },
  {
   "cell_type": "code",
   "execution_count": null,
   "metadata": {},
   "outputs": [],
   "source": [
    "# Apply regulization and then add zeros to the feature engineering method"
   ]
  },
  {
   "cell_type": "code",
   "execution_count": null,
   "metadata": {},
   "outputs": [],
   "source": [
    "# Try combining features and see if it makes the model better"
   ]
  },
  {
   "cell_type": "markdown",
   "metadata": {},
   "source": [
    "# K-NN"
   ]
  },
  {
   "cell_type": "code",
   "execution_count": null,
   "metadata": {},
   "outputs": [],
   "source": []
  }
 ],
 "metadata": {
  "kernelspec": {
   "display_name": "Python 3",
   "language": "python",
   "name": "python3"
  },
  "language_info": {
   "codemirror_mode": {
    "name": "ipython",
    "version": 3
   },
   "file_extension": ".py",
   "mimetype": "text/x-python",
   "name": "python",
   "nbconvert_exporter": "python",
   "pygments_lexer": "ipython3",
   "version": "3.6.5"
  }
 },
 "nbformat": 4,
 "nbformat_minor": 2
}
